{
 "cells": [
  {
   "cell_type": "code",
   "execution_count": 1,
   "id": "9a69af65",
   "metadata": {},
   "outputs": [],
   "source": [
    "import pandas as pd\n",
    "import matplotlib.pyplot as plt\n",
    "import seaborn as sns\n",
    "\n",
    "# seaborn stying\n",
    "sns.set_theme()\n",
    "\n",
    "# Read in csv\n",
    "df = pd.read_csv('../data/raw/all_lyrics.csv')"
   ]
  },
  {
   "cell_type": "code",
   "execution_count": 2,
   "id": "8a49ac48",
   "metadata": {},
   "outputs": [
    {
     "data": {
      "text/html": [
       "<div>\n",
       "<style scoped>\n",
       "    .dataframe tbody tr th:only-of-type {\n",
       "        vertical-align: middle;\n",
       "    }\n",
       "\n",
       "    .dataframe tbody tr th {\n",
       "        vertical-align: top;\n",
       "    }\n",
       "\n",
       "    .dataframe thead th {\n",
       "        text-align: right;\n",
       "    }\n",
       "</style>\n",
       "<table border=\"1\" class=\"dataframe\">\n",
       "  <thead>\n",
       "    <tr style=\"text-align: right;\">\n",
       "      <th></th>\n",
       "      <th>track_name</th>\n",
       "      <th>artist</th>\n",
       "      <th>lyrics</th>\n",
       "      <th>release_date</th>\n",
       "    </tr>\n",
       "  </thead>\n",
       "  <tbody>\n",
       "    <tr>\n",
       "      <th>0</th>\n",
       "      <td>Not Like Us by Kendrick Lamar</td>\n",
       "      <td>Kendrick Lamar</td>\n",
       "      <td>Psst, I see dead people\\n(\\nMustard on the bea...</td>\n",
       "      <td>2024-05-04</td>\n",
       "    </tr>\n",
       "    <tr>\n",
       "      <th>1</th>\n",
       "      <td>HUMBLE. by Kendrick Lamar</td>\n",
       "      <td>Kendrick Lamar</td>\n",
       "      <td>Nobody pray for me\\nIt been that day for me\\nW...</td>\n",
       "      <td>2017-03-30</td>\n",
       "    </tr>\n",
       "    <tr>\n",
       "      <th>2</th>\n",
       "      <td>euphoria by Kendrick Lamar</td>\n",
       "      <td>Kendrick Lamar</td>\n",
       "      <td>​eurt s'em tuoba yas yeht gnihtyrevE\\nEuphoria...</td>\n",
       "      <td>2024-04-30</td>\n",
       "    </tr>\n",
       "    <tr>\n",
       "      <th>3</th>\n",
       "      <td>m.A.A.d city by Kendrick Lamar (Ft. MC Eiht)</td>\n",
       "      <td>Kendrick Lamar</td>\n",
       "      <td>[Refrain: Kendrick Lamar &amp; \\nScHoolboy Q\\n]\\nI...</td>\n",
       "      <td>2012-10-22</td>\n",
       "    </tr>\n",
       "    <tr>\n",
       "      <th>4</th>\n",
       "      <td>Swimming Pools (Drank) by Kendrick Lamar</td>\n",
       "      <td>Kendrick Lamar</td>\n",
       "      <td>Pour up (Drank), head shot (Drank)\\nSit down (...</td>\n",
       "      <td>2012-07-31</td>\n",
       "    </tr>\n",
       "  </tbody>\n",
       "</table>\n",
       "</div>"
      ],
      "text/plain": [
       "                                     track_name          artist  \\\n",
       "0                 Not Like Us by Kendrick Lamar  Kendrick Lamar   \n",
       "1                     HUMBLE. by Kendrick Lamar  Kendrick Lamar   \n",
       "2                    euphoria by Kendrick Lamar  Kendrick Lamar   \n",
       "3  m.A.A.d city by Kendrick Lamar (Ft. MC Eiht)  Kendrick Lamar   \n",
       "4      Swimming Pools (Drank) by Kendrick Lamar  Kendrick Lamar   \n",
       "\n",
       "                                              lyrics release_date  \n",
       "0  Psst, I see dead people\\n(\\nMustard on the bea...   2024-05-04  \n",
       "1  Nobody pray for me\\nIt been that day for me\\nW...   2017-03-30  \n",
       "2  ​eurt s'em tuoba yas yeht gnihtyrevE\\nEuphoria...   2024-04-30  \n",
       "3  [Refrain: Kendrick Lamar & \\nScHoolboy Q\\n]\\nI...   2012-10-22  \n",
       "4  Pour up (Drank), head shot (Drank)\\nSit down (...   2012-07-31  "
      ]
     },
     "execution_count": 2,
     "metadata": {},
     "output_type": "execute_result"
    }
   ],
   "source": [
    "df.head()"
   ]
  },
  {
   "cell_type": "code",
   "execution_count": 3,
   "id": "3282cc29",
   "metadata": {},
   "outputs": [
    {
     "data": {
      "text/plain": [
       "(10378, 4)"
      ]
     },
     "execution_count": 3,
     "metadata": {},
     "output_type": "execute_result"
    }
   ],
   "source": [
    "df.shape"
   ]
  },
  {
   "cell_type": "code",
   "execution_count": 4,
   "id": "ff78aa55",
   "metadata": {},
   "outputs": [
    {
     "name": "stdout",
     "output_type": "stream",
     "text": [
      "<class 'pandas.core.frame.DataFrame'>\n",
      "RangeIndex: 10378 entries, 0 to 10377\n",
      "Data columns (total 4 columns):\n",
      " #   Column        Non-Null Count  Dtype \n",
      "---  ------        --------------  ----- \n",
      " 0   track_name    10378 non-null  object\n",
      " 1   artist        10378 non-null  object\n",
      " 2   lyrics        10372 non-null  object\n",
      " 3   release_date  9954 non-null   object\n",
      "dtypes: object(4)\n",
      "memory usage: 324.4+ KB\n"
     ]
    }
   ],
   "source": [
    "df.info()"
   ]
  },
  {
   "cell_type": "code",
   "execution_count": 5,
   "id": "20c76dfd",
   "metadata": {},
   "outputs": [],
   "source": [
    "# Drop songs with no lyrics\n",
    "df = df.dropna(subset = ['lyrics'])"
   ]
  },
  {
   "cell_type": "code",
   "execution_count": 6,
   "id": "999e1eba",
   "metadata": {},
   "outputs": [],
   "source": [
    "# Get release_date into datetime\n",
    "df['release_date'] = pd.to_datetime(df['release_date'])"
   ]
  },
  {
   "cell_type": "code",
   "execution_count": 7,
   "id": "7c86fb45",
   "metadata": {},
   "outputs": [
    {
     "data": {
      "text/plain": [
       "Text(0.5, 1.0, 'Distribution of Track Release Dates')"
      ]
     },
     "execution_count": 7,
     "metadata": {},
     "output_type": "execute_result"
    },
    {
     "data": {
      "image/png": "[encoded data removed]",
      "text/plain": [
       "<Figure size 640x480 with 1 Axes>"
      ]
     },
     "metadata": {},
     "output_type": "display_data"
    }
   ],
   "source": [
    "df['release_date'].hist()\n",
    "plt.title('Distribution of Track Release Dates')"
   ]
  },
  {
   "cell_type": "markdown",
   "id": "553cc7ee",
   "metadata": {},
   "source": [
    "My research question is investigating topics in rap songs during the 2010s era. Would it be useful to filter for songs during this? I think so to keep the scope of my project simple."
   ]
  },
  {
   "cell_type": "code",
   "execution_count": 8,
   "id": "d2c4b387",
   "metadata": {},
   "outputs": [],
   "source": [
    "df = df[(df['release_date'] >= '2010-01-01') & (df['release_date'] < '2020-01-01')]"
   ]
  },
  {
   "cell_type": "code",
   "execution_count": 9,
   "id": "0a07e37d",
   "metadata": {},
   "outputs": [
    {
     "data": {
      "text/plain": [
       "Text(0.5, 1.0, 'Distribution of Track Release Dates After 2010')"
      ]
     },
     "execution_count": 9,
     "metadata": {},
     "output_type": "execute_result"
    },
    {
     "data": {
      "image/png": "[encoded data removed]",
      "text/plain": [
       "<Figure size 640x480 with 1 Axes>"
      ]
     },
     "metadata": {},
     "output_type": "display_data"
    }
   ],
   "source": [
    "df[df['release_date'] != 'unreleased']['release_date'].hist()\n",
    "plt.title('Distribution of Track Release Dates After 2010')"
   ]
  },
  {
   "cell_type": "markdown",
   "id": "e912c861",
   "metadata": {},
   "source": [
    "## Cleaning titles + lyrics"
   ]
  },
  {
   "cell_type": "code",
   "execution_count": 10,
   "id": "d9382729",
   "metadata": {},
   "outputs": [],
   "source": [
    "# Ensure lyrics are strings\n",
    "df['lyrics'] = df['lyrics'].astype('string')"
   ]
  },
  {
   "cell_type": "markdown",
   "id": "e24e9a4e",
   "metadata": {},
   "source": [
    "Remove artist name from track name"
   ]
  },
  {
   "cell_type": "code",
   "execution_count": 11,
   "id": "3c4a0284",
   "metadata": {},
   "outputs": [],
   "source": [
    "def remove_artist(track_name):\n",
    "    \"\"\"\n",
    "    Removes artist name from track name \n",
    "    \"\"\"\n",
    "    return track_name.split(' by')[0]\n",
    "\n",
    "df['track_name'] = df['track_name'].apply(remove_artist)"
   ]
  },
  {
   "cell_type": "markdown",
   "id": "b37c65e2",
   "metadata": {},
   "source": [
    "Remove newline, section labels (denoted by \"[]\"), ad-libs (denoted by \"()\"), tokenize, remove stopwords, and lemmatize."
   ]
  },
  {
   "cell_type": "code",
   "execution_count": 14,
   "id": "8da67739",
   "metadata": {},
   "outputs": [],
   "source": [
    "from nltk.tokenize import word_tokenize\n",
    "from nltk.corpus import stopwords\n",
    "from nltk.stem import WordNetLemmatizer\n",
    "import re\n",
    "import contractions\n",
    "\n",
    "# Tokenize + lematize + remove stopwords\n",
    "def tokenize_and_lemmatize(text): \n",
    "\n",
    "    # Define stop words from english text (we are going to keep stopwords for POS tagging)\n",
    "    # stop_words = set(stopwords.words('english'))\n",
    "\n",
    "    # Remove \\n\n",
    "    text = text.replace('\\n', ' ')\n",
    "\n",
    "    # Remove section labels\n",
    "    text = re.sub(r'\\[.*?\\]', '', text)\n",
    "\n",
    "    # Remove ad-libs\n",
    "    text = re.sub(r'\\(.*?\\)', '', text)\n",
    "\n",
    "    # Fix contractions (ain't -> is not) as these are common in rap\n",
    "    text = contractions.fix(text)\n",
    "\n",
    "    # Tokenize\n",
    "    tokens = word_tokenize(text)\n",
    "\n",
    "    # Filter for strings\n",
    "    words = [word.lower() for word in tokens if word.isalpha()]\n",
    "\n",
    "    return words\n",
    "\n",
    "# Clean lyrics\n",
    "df['tokens'] = df['lyrics'].apply(tokenize_and_lemmatize)"
   ]
  },
  {
   "cell_type": "markdown",
   "id": "622b3d4e",
   "metadata": {},
   "source": [
    "One thing i didn't address previously was ad-libs. Rap is full of them, and they don't tend to be the most useful."
   ]
  },
  {
   "cell_type": "markdown",
   "id": "f01510cf",
   "metadata": {},
   "source": [
    "Export to csv"
   ]
  },
  {
   "cell_type": "code",
   "execution_count": 15,
   "id": "49db3eb3",
   "metadata": {},
   "outputs": [],
   "source": [
    "df = df.reset_index(drop = True)\n",
    "df.to_csv('../data/processed/cleaned_lyrics.csv')"
   ]
  }
 ],
 "metadata": {
  "kernelspec": {
   "display_name": "venv (3.11.0)",
   "language": "python",
   "name": "python3"
  },
  "language_info": {
   "codemirror_mode": {
    "name": "ipython",
    "version": 3
   },
   "file_extension": ".py",
   "mimetype": "text/x-python",
   "name": "python",
   "nbconvert_exporter": "python",
   "pygments_lexer": "ipython3",
   "version": "3.11.0"
  }
 },
 "nbformat": 4,
 "nbformat_minor": 5
}
